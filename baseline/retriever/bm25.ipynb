{
 "cells": [
  {
   "cell_type": "code",
   "execution_count": 2,
   "metadata": {},
   "outputs": [],
   "source": [
    "import pandas as pd\n",
    "import torch\n",
    "import numpy as np\n",
    "from tqdm import tqdm\n",
    "from cherche import retrieve\n",
    "import sys\n",
    "sys.path.append(\"../utils\")\n",
    "from data_utils import train_val_test_split_df\n",
    "from file_utils import mkdir\n",
    "from metrics import MRR, ACCURACY, RECALL, MAP"
   ]
  },
  {
   "cell_type": "code",
   "execution_count": 16,
   "metadata": {},
   "outputs": [],
   "source": [
    "df_test = pd.read_json(\"../../../data-set_pre_processed/test/articles_test.json\")"
   ]
  },
  {
   "cell_type": "code",
   "execution_count": 17,
   "metadata": {},
   "outputs": [],
   "source": [
    "df_test[\"query\"] = df_test[\"query\"].apply(lambda x : x.replace(\"///\",\" \"))\n",
    "df_test[\"id\"] = df_test[\"id\"].apply(lambda x_list : [int(x) for x in x_list])"
   ]
  },
  {
   "cell_type": "code",
   "execution_count": 18,
   "metadata": {},
   "outputs": [],
   "source": [
    "corpus_test = pd.read_json(\"../../../data-set_pre_processed/test/corpus_test.json\", dtype={\"id\" : str})"
   ]
  },
  {
   "cell_type": "code",
   "execution_count": 19,
   "metadata": {},
   "outputs": [],
   "source": [
    "corpus_test[\"id\"] = corpus_test[\"id\"].apply(int)"
   ]
  },
  {
   "cell_type": "code",
   "execution_count": 23,
   "metadata": {},
   "outputs": [],
   "source": [
    "retriever = retrieve.BM25Okapi(key=\"id\",\n",
    "                               on=[\"first_sentence\"],\n",
    "                               documents=corpus_test.to_dict(orient=\"records\"),\n",
    "                               k=10)"
   ]
  },
  {
   "cell_type": "code",
   "execution_count": 24,
   "metadata": {},
   "outputs": [
    {
     "data": {
      "text/plain": [
       "0    [62278349818940349863543266908722591203062559004]\n",
       "Name: query, dtype: object"
      ]
     },
     "execution_count": 24,
     "metadata": {},
     "output_type": "execute_result"
    }
   ],
   "source": [
    "df_test[\"query\"][0:1].apply(lambda q : [r[\"id\"] for r in retriever(q=q)])"
   ]
  },
  {
   "cell_type": "code",
   "execution_count": 25,
   "metadata": {},
   "outputs": [
    {
     "name": "stderr",
     "output_type": "stream",
     "text": [
      "198it [00:01, 152.24it/s]"
     ]
    },
    {
     "name": "stdout",
     "output_type": "stream",
     "text": [
      "ACCURACY     : 23.64\n",
      "MRR@10       : 17.69\n",
      "MRR@25       : 7.08\n",
      "RECALL@10    : 23.72\n",
      "RECALL@25    : 23.72\n",
      "RECALL@50    : 23.72\n",
      "RECALL@200   : 23.72\n",
      "MAP          : 22.37\n"
     ]
    },
    {
     "name": "stderr",
     "output_type": "stream",
     "text": [
      "\n"
     ]
    }
   ],
   "source": [
    "metrics = {\"ACCURACY\": [],\n",
    "           \"MRR@10\": [], \"MRR@25\": [],\n",
    "           \"RECALL@10\": [], \"RECALL@25\": [], \"RECALL@50\": [], \"RECALL@200\": [],\n",
    "           \"MAP\": []}\n",
    "for query, reference_ids in tqdm(zip(df_test[\"query\"], df_test[\"id\"])) :\n",
    "        retrieved_ids = retriever(q=query)\n",
    "        retrieved_ids = [d[\"id\"] for d in retrieved_ids]\n",
    "        acc, correctness = ACCURACY(retrieved_ids, reference_ids,\n",
    "                                    k=len(reference_ids),\n",
    "                                    return_list=True)\n",
    "        metrics[\"ACCURACY\"].append(acc)\n",
    "        metrics[\"MRR@10\"].append(MRR(retrieved_ids, reference_ids,\n",
    "                                          k=10))\n",
    "        metrics[\"MRR@25\"].append(MRR(retrieved_ids, reference_ids,\n",
    "                                          k=25))\n",
    "        metrics[\"RECALL@10\"].append(RECALL(retrieved_ids, reference_ids,\n",
    "                                                k=10))\n",
    "        metrics[\"RECALL@25\"].append(RECALL(retrieved_ids, reference_ids,\n",
    "                                                k=25))\n",
    "        metrics[\"RECALL@50\"].append(RECALL(retrieved_ids, reference_ids,\n",
    "                                                k=50))\n",
    "        metrics[\"RECALL@200\"].append(RECALL(retrieved_ids, reference_ids,\n",
    "                                                 k=200))\n",
    "        metrics[\"MAP\"].append(MAP(retrieved_ids, reference_ids,\n",
    "                                       k=len(reference_ids)))\n",
    "        \n",
    "\n",
    "for k, v in metrics.items():\n",
    "    if len(v) > 0:\n",
    "        metrics[k] = sum(v) / len(v)\n",
    "for k, v in metrics.items():\n",
    "    print(f\"{str(k).ljust(12)} : {v * 100:.2f}\")"
   ]
  },
  {
   "cell_type": "code",
   "execution_count": null,
   "metadata": {},
   "outputs": [],
   "source": []
  }
 ],
 "metadata": {
  "kernelspec": {
   "display_name": "Python 3 (ipykernel)",
   "language": "python",
   "name": "python3"
  },
  "language_info": {
   "codemirror_mode": {
    "name": "ipython",
    "version": 3
   },
   "file_extension": ".py",
   "mimetype": "text/x-python",
   "name": "python",
   "nbconvert_exporter": "python",
   "pygments_lexer": "ipython3",
   "version": "3.6.10"
  }
 },
 "nbformat": 4,
 "nbformat_minor": 4
}
