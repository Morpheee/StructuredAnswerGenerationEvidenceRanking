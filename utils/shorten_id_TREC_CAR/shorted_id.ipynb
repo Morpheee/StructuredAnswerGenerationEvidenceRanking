{
 "cells": [
  {
   "cell_type": "code",
   "execution_count": 3,
   "metadata": {},
   "outputs": [
    {
     "name": "stdout",
     "output_type": "stream",
     "text": [
      "Requirement already satisfied: sympy in /users/iris/rserrano/.local/lib/python3.6/site-packages (1.9)\n",
      "Requirement already satisfied: mpmath>=0.19 in /users/iris/rserrano/.local/lib/python3.6/site-packages (from sympy) (1.2.1)\n"
     ]
    }
   ],
   "source": [
    "!pip install --user sympy"
   ]
  },
  {
   "cell_type": "code",
   "execution_count": 4,
   "metadata": {},
   "outputs": [
    {
     "name": "stderr",
     "output_type": "stream",
     "text": [
      "/users/iris/rserrano/.local/lib/python3.6/site-packages/tqdm/auto.py:22: TqdmWarning: IProgress not found. Please update jupyter and ipywidgets. See https://ipywidgets.readthedocs.io/en/stable/user_install.html\n",
      "  from .autonotebook import tqdm as notebook_tqdm\n"
     ]
    }
   ],
   "source": [
    "#!/usr/bin/env python3\n",
    "\n",
    "import pandas as pd\n",
    "import numpy as np\n",
    "import torch\n",
    "import sympy\n",
    "import os\n",
    "import logging\n",
    "from tqdm import tqdm\n",
    "tqdm.pandas(miniters=100000, mininterval=60, maxinterval=600)\n",
    "\n",
    "logging.basicConfig(level=logging.INFO)"
   ]
  },
  {
   "cell_type": "code",
   "execution_count": 133,
   "metadata": {},
   "outputs": [],
   "source": [
    "def get_primes(lower_bound=100, upper_bound=1000, step=10000) :\n",
    "    for i in range(lower_bound,upper_bound) :\n",
    "        yield list(sympy.sieve.primerange(i*step,(i+1)*step)) #500000, 750000))\n",
    "#     yield sympy.sieve.primerange(500000, 750000)"
   ]
  },
  {
   "cell_type": "code",
   "execution_count": 65,
   "metadata": {},
   "outputs": [],
   "source": [
    "def index_to_int(index):\n",
    "    # index = [str(i) if i in str_nb else str(ord(i) - 97) for i in index]\n",
    "    # return int(''.join(index))\n",
    "    if type(index) == list:\n",
    "        return [int(i) for i in index]\n",
    "    else :\n",
    "        return int(index)"
   ]
  },
  {
   "cell_type": "code",
   "execution_count": 66,
   "metadata": {},
   "outputs": [],
   "source": [
    "def get_factor(index):\n",
    "    assert primes != []\n",
    "    factors = []\n",
    "    for prime in primes:\n",
    "        if index % prime == 0:\n",
    "            factors.append(prime)\n",
    "    for f in factors:\n",
    "        primes.remove(f)\n",
    "    return factors"
   ]
  },
  {
   "cell_type": "code",
   "execution_count": 67,
   "metadata": {},
   "outputs": [],
   "source": [
    "def reduce_index(index, smallest_prime):\n",
    "    if type(index) == int :\n",
    "        return index % smallest_prime\n",
    "    elif type(index) == list :\n",
    "        return [i%smallest_prime for i in index]"
   ]
  },
  {
   "cell_type": "code",
   "execution_count": 5,
   "metadata": {},
   "outputs": [
    {
     "name": "stderr",
     "output_type": "stream",
     "text": [
      "  0%|          | 0/5 [00:00<?, ?it/s]INFO:root:Load ../../../data-set_pre_processed/fold-0/corpus_train.json\n",
      " 20%|██        | 1/5 [00:05<00:23,  5.83s/it]INFO:root:Load ../../../data-set_pre_processed/fold-1/corpus_train.json\n",
      " 40%|████      | 2/5 [00:11<00:16,  5.63s/it]INFO:root:Load ../../../data-set_pre_processed/fold-2/corpus_train.json\n",
      " 60%|██████    | 3/5 [00:16<00:11,  5.54s/it]INFO:root:Load ../../../data-set_pre_processed/fold-3/corpus_train.json\n",
      " 80%|████████  | 4/5 [00:22<00:05,  5.49s/it]INFO:root:Load ../../../data-set_pre_processed/fold-4/corpus_train.json\n",
      "100%|██████████| 5/5 [00:27<00:00,  5.52s/it]\n"
     ]
    }
   ],
   "source": [
    "ids = []\n",
    "for i in tqdm(range(5)):\n",
    "    logging.info(f\"Load ../../../data-set_pre_processed/fold-{i}/corpus_train.json\")\n",
    "    ids += pd.read_json(f\"../../../data-set_pre_processed/fold-{i}/corpus_train.json\",\n",
    "                        dtype={'id': str})[\"id\"].to_list()"
   ]
  },
  {
   "cell_type": "code",
   "execution_count": 6,
   "metadata": {},
   "outputs": [
    {
     "name": "stderr",
     "output_type": "stream",
     "text": [
      "INFO:root:len(ids) = 5154505\n"
     ]
    }
   ],
   "source": [
    "ids = [int(i) for i in ids]\n",
    "logging.info(f\"len(ids) = {len(ids)}\")"
   ]
  },
  {
   "cell_type": "code",
   "execution_count": 11,
   "metadata": {},
   "outputs": [
    {
     "name": "stderr",
     "output_type": "stream",
     "text": [
      "100%|██████████| 5154505/5154505 [00:01<00:00, 2929116.64it/s]\n"
     ]
    }
   ],
   "source": [
    "for i in tqdm(ids) :\n",
    "    if i % 2147483647 == 0 :\n",
    "        print(i)\n",
    "smallest_prime = 2147483647"
   ]
  },
  {
   "cell_type": "code",
   "execution_count": 134,
   "metadata": {},
   "outputs": [
    {
     "name": "stderr",
     "output_type": "stream",
     "text": [
      "INFO:root:primes : 1000003 ---> 1009997\n",
      "  1%|          | 8/753 [00:04<07:13,  1.72it/s]INFO:root:smallest_prime : 1000133\n",
      "  1%|          | 8/753 [00:05<08:10,  1.52it/s]\n"
     ]
    }
   ],
   "source": [
    "# def main():\n",
    "smallest_prime=None\n",
    "if smallest_prime is None:\n",
    "    primes_gen = get_primes()\n",
    "    smallest_prime = -1\n",
    "    j = 0\n",
    "    for primes in primes_gen :\n",
    "        logging.info(f\"primes : {primes[0]} ---> {primes[-1]}\")\n",
    "        if j < 0 :\n",
    "            break\n",
    "        j += 1\n",
    "        for prime in tqdm(primes) :\n",
    "            remainder = ids % prime\n",
    "            if any(remainder == 0) :\n",
    "                continue\n",
    "            else :\n",
    "                smallest_prime = int(prime)\n",
    "                logging.info(f\"smallest_prime : {smallest_prime}\")\n",
    "                j = -1\n",
    "                break\n",
    "        if j < 0 :\n",
    "            break\n",
    "\n",
    "if smallest_prime == -1 :\n",
    "    exit(1)"
   ]
  },
  {
   "cell_type": "code",
   "execution_count": 14,
   "metadata": {},
   "outputs": [],
   "source": [
    "files_name = []\n",
    "for suffix_name in [\n",
    "                  \"corpus_train.json\",\n",
    "                  \"articles_train.json\",\n",
    "                  \"sections_train.json\"\n",
    "                  ] :\n",
    "    files_name += [f\"../../../data-set_pre_processed/fold-{i}/{suffix_name}\" for i in range(5)]"
   ]
  },
  {
   "cell_type": "code",
   "execution_count": 15,
   "metadata": {},
   "outputs": [
    {
     "name": "stderr",
     "output_type": "stream",
     "text": [
      "INFO:root:Processing ../../../data-set_pre_processed/fold-0/articles_train.json...\n",
      "INFO:root:sanity check : all id % smallest_prime != 0\n",
      "INFO:root:Sanity check passed.\n",
      "INFO:root:save file as ../../../data-set_pre_processed/fold-0/articles_train.json.new.json.\n",
      "INFO:root:saved.\n",
      "\n",
      "\n",
      "INFO:root:Processing ../../../data-set_pre_processed/fold-1/articles_train.json...\n",
      "INFO:root:sanity check : all id % smallest_prime != 0\n",
      "INFO:root:Sanity check passed.\n",
      "INFO:root:save file as ../../../data-set_pre_processed/fold-1/articles_train.json.new.json.\n",
      "INFO:root:saved.\n",
      "\n",
      "\n",
      "INFO:root:Processing ../../../data-set_pre_processed/fold-2/articles_train.json...\n",
      "INFO:root:sanity check : all id % smallest_prime != 0\n",
      "INFO:root:Sanity check passed.\n",
      "INFO:root:save file as ../../../data-set_pre_processed/fold-2/articles_train.json.new.json.\n",
      "INFO:root:saved.\n",
      "\n",
      "\n",
      "INFO:root:Processing ../../../data-set_pre_processed/fold-3/articles_train.json...\n",
      "INFO:root:sanity check : all id % smallest_prime != 0\n",
      "INFO:root:Sanity check passed.\n",
      "INFO:root:save file as ../../../data-set_pre_processed/fold-3/articles_train.json.new.json.\n",
      "INFO:root:saved.\n",
      "\n",
      "\n",
      "INFO:root:Processing ../../../data-set_pre_processed/fold-4/articles_train.json...\n",
      "INFO:root:sanity check : all id % smallest_prime != 0\n",
      "INFO:root:Sanity check passed.\n",
      "INFO:root:save file as ../../../data-set_pre_processed/fold-4/articles_train.json.new.json.\n",
      "INFO:root:saved.\n",
      "\n",
      "\n",
      "INFO:root:Processing ../../../data-set_pre_processed/fold-0/corpus_train.json...\n",
      "INFO:root:sanity check : all id % smallest_prime != 0\n",
      "INFO:root:Sanity check passed.\n",
      "INFO:root:save file as ../../../data-set_pre_processed/fold-0/corpus_train.json.new.json.\n",
      "INFO:root:saved.\n",
      "\n",
      "\n",
      "INFO:root:Processing ../../../data-set_pre_processed/fold-1/corpus_train.json...\n",
      "INFO:root:sanity check : all id % smallest_prime != 0\n",
      "INFO:root:Sanity check passed.\n",
      "INFO:root:save file as ../../../data-set_pre_processed/fold-1/corpus_train.json.new.json.\n",
      "INFO:root:saved.\n",
      "\n",
      "\n",
      "INFO:root:Processing ../../../data-set_pre_processed/fold-2/corpus_train.json...\n",
      "INFO:root:sanity check : all id % smallest_prime != 0\n",
      "INFO:root:Sanity check passed.\n",
      "INFO:root:save file as ../../../data-set_pre_processed/fold-2/corpus_train.json.new.json.\n",
      "INFO:root:saved.\n",
      "\n",
      "\n",
      "INFO:root:Processing ../../../data-set_pre_processed/fold-3/corpus_train.json...\n",
      "INFO:root:sanity check : all id % smallest_prime != 0\n",
      "INFO:root:Sanity check passed.\n",
      "INFO:root:save file as ../../../data-set_pre_processed/fold-3/corpus_train.json.new.json.\n",
      "INFO:root:saved.\n",
      "\n",
      "\n",
      "INFO:root:Processing ../../../data-set_pre_processed/fold-4/corpus_train.json...\n",
      "INFO:root:sanity check : all id % smallest_prime != 0\n",
      "INFO:root:Sanity check passed.\n",
      "INFO:root:save file as ../../../data-set_pre_processed/fold-4/corpus_train.json.new.json.\n",
      "INFO:root:saved.\n",
      "\n",
      "\n",
      "INFO:root:Processing ../../../data-set_pre_processed/fold-0/sections_train.json...\n",
      "INFO:root:sanity check : all id % smallest_prime != 0\n",
      "INFO:root:Sanity check passed.\n",
      "INFO:root:save file as ../../../data-set_pre_processed/fold-0/sections_train.json.new.json.\n",
      "INFO:root:saved.\n",
      "\n",
      "\n",
      "INFO:root:Processing ../../../data-set_pre_processed/fold-1/sections_train.json...\n",
      "INFO:root:sanity check : all id % smallest_prime != 0\n",
      "INFO:root:Sanity check passed.\n",
      "INFO:root:save file as ../../../data-set_pre_processed/fold-1/sections_train.json.new.json.\n",
      "INFO:root:saved.\n",
      "\n",
      "\n",
      "INFO:root:Processing ../../../data-set_pre_processed/fold-2/sections_train.json...\n",
      "INFO:root:sanity check : all id % smallest_prime != 0\n",
      "INFO:root:Sanity check passed.\n",
      "INFO:root:save file as ../../../data-set_pre_processed/fold-2/sections_train.json.new.json.\n",
      "INFO:root:saved.\n",
      "\n",
      "\n",
      "INFO:root:Processing ../../../data-set_pre_processed/fold-3/sections_train.json...\n",
      "INFO:root:sanity check : all id % smallest_prime != 0\n",
      "INFO:root:Sanity check passed.\n",
      "INFO:root:save file as ../../../data-set_pre_processed/fold-3/sections_train.json.new.json.\n",
      "INFO:root:saved.\n",
      "\n",
      "\n",
      "INFO:root:Processing ../../../data-set_pre_processed/fold-4/sections_train.json...\n",
      "INFO:root:sanity check : all id % smallest_prime != 0\n",
      "INFO:root:Sanity check passed.\n",
      "INFO:root:save file as ../../../data-set_pre_processed/fold-4/sections_train.json.new.json.\n",
      "INFO:root:saved.\n",
      "\n",
      "\n",
      "INFO:root:DONE.\n",
      "\n",
      "\n"
     ]
    }
   ],
   "source": [
    "for file_name in files_name :\n",
    "    logging.info(f\"Processing {file_name}...\")\n",
    "    df = pd.read_json(file_name)\n",
    "    if \"corpus\" in file_name :\n",
    "        # logging.info(r\"sanity check : all id in df are in ids (list)\")\n",
    "        # assert np.array_equal(df[\"id\"].apply(int).to_numpy(), ids[:len(df)])\n",
    "        df[\"new_id\"] = df[\"id\"].apply(lambda x : int(x) % smallest_prime)\n",
    "        logging.info(r\"sanity check : all id % smallest_prime != 0\")\n",
    "        assert all(df[\"new_id\"] != 0)\n",
    "    else :\n",
    "        df[\"new_id\"] = df[\"id\"].apply(lambda x_list : [int(x) % smallest_prime for x in x_list])\n",
    "        logging.info(r\"sanity check : all id % smallest_prime != 0\")\n",
    "        assert all(df[\"new_id\"].apply(lambda x_list : all([x != 0 for x in x_list])))\n",
    "    logging.info(f\"Sanity check passed.\")\n",
    "    logging.info(f\"save file as {file_name}.new.json.\")\n",
    "#     df.to_json(file_name+\".new.json\", indent=True)\n",
    "    logging.info(\"saved.\\n\\n\")\n",
    "logging.info(f\"DONE.\\n\\n\")"
   ]
  },
  {
   "cell_type": "code",
   "execution_count": 197,
   "metadata": {},
   "outputs": [
    {
     "data": {
      "text/plain": [
       "False"
      ]
     },
     "execution_count": 197,
     "metadata": {},
     "output_type": "execute_result"
    }
   ],
   "source": [
    "df[\"id\"].apply(int)[0]"
   ]
  },
  {
   "cell_type": "code",
   "execution_count": 205,
   "metadata": {},
   "outputs": [
    {
     "ename": "SyntaxError",
     "evalue": "unexpected EOF while parsing (<ipython-input-205-4684b922c7ce>, line 1)",
     "output_type": "error",
     "traceback": [
      "\u001b[0;36m  File \u001b[0;32m\"<ipython-input-205-4684b922c7ce>\"\u001b[0;36m, line \u001b[0;32m1\u001b[0m\n\u001b[0;31m    str(ids[0]\u001b[0m\n\u001b[0m              ^\u001b[0m\n\u001b[0;31mSyntaxError\u001b[0m\u001b[0;31m:\u001b[0m unexpected EOF while parsing\n"
     ]
    }
   ],
   "source": [
    "str(ids[0]"
   ]
  }
 ],
 "metadata": {
  "kernelspec": {
   "display_name": "Python 3 (ipykernel)",
   "language": "python",
   "name": "python3"
  },
  "language_info": {
   "codemirror_mode": {
    "name": "ipython",
    "version": 3
   },
   "file_extension": ".py",
   "mimetype": "text/x-python",
   "name": "python",
   "nbconvert_exporter": "python",
   "pygments_lexer": "ipython3",
   "version": "3.6.10"
  }
 },
 "nbformat": 4,
 "nbformat_minor": 4
}
