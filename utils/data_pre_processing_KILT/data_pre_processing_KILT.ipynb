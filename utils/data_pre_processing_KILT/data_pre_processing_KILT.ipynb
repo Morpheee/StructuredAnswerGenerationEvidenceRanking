{
 "cells": [
  {
   "cell_type": "code",
   "execution_count": 1,
   "metadata": {
    "pycharm": {
     "name": "#%%\n"
    }
   },
   "outputs": [
    {
     "name": "stderr",
     "output_type": "stream",
     "text": [
      "/users/iris/rserrano/.local/lib/python3.6/site-packages/tqdm/auto.py:22: TqdmWarning: IProgress not found. Please update jupyter and ipywidgets. See https://ipywidgets.readthedocs.io/en/stable/user_install.html\n",
      "  from .autonotebook import tqdm as notebook_tqdm\n"
     ]
    }
   ],
   "source": [
    "from datasets import load_dataset\n",
    "import pandas as pd\n",
    "import numpy as np"
   ]
  },
  {
   "cell_type": "code",
   "execution_count": 10,
   "metadata": {
    "pycharm": {
     "name": "#%%\n"
    }
   },
   "outputs": [
    {
     "data": {
      "application/vnd.jupyter.widget-view+json": {
       "model_id": "870ada7928a7453e9a9b2616fe38c718",
       "version_major": 2,
       "version_minor": 0
      },
      "text/plain": [
       "Downloading builder script:   0%|          | 0.00/2.96k [00:00<?, ?B/s]"
      ]
     },
     "metadata": {},
     "output_type": "display_data"
    },
    {
     "data": {
      "application/vnd.jupyter.widget-view+json": {
       "model_id": "00eb3fac977d496aae5de2f1e38a0134",
       "version_major": 2,
       "version_minor": 0
      },
      "text/plain": [
       "Downloading metadata:   0%|          | 0.00/4.44k [00:00<?, ?B/s]"
      ]
     },
     "metadata": {},
     "output_type": "display_data"
    },
    {
     "name": "stderr",
     "output_type": "stream",
     "text": [
      "No config specified, defaulting to: kilt_tasks/nq\n"
     ]
    },
    {
     "name": "stdout",
     "output_type": "stream",
     "text": [
      "Downloading and preparing dataset kilt_tasks/nq (download: 57.38 MiB, generated: 35.20 MiB, post-processed: Unknown size, total: 92.58 MiB) to /home/legmint/.cache/huggingface/datasets/kilt_tasks/nq/1.0.0/57dc8b2431e76637e0c6ef79689ca4af61ed3a330e2e0cd62c8971465a35db3a...\n"
     ]
    },
    {
     "data": {
      "application/vnd.jupyter.widget-view+json": {
       "model_id": "882ac98fb5074425bc95abe2e7769d91",
       "version_major": 2,
       "version_minor": 0
      },
      "text/plain": [
       "Downloading data files:   0%|          | 0/3 [00:00<?, ?it/s]"
      ]
     },
     "metadata": {},
     "output_type": "display_data"
    },
    {
     "data": {
      "application/vnd.jupyter.widget-view+json": {
       "model_id": "eac38725c17b472cbd216568e252ae04",
       "version_major": 2,
       "version_minor": 0
      },
      "text/plain": [
       "Downloading data: 0.00B [00:00, ?B/s]"
      ]
     },
     "metadata": {},
     "output_type": "display_data"
    },
    {
     "data": {
      "application/vnd.jupyter.widget-view+json": {
       "model_id": "11cef7aff72e4d1792417730eff74c96",
       "version_major": 2,
       "version_minor": 0
      },
      "text/plain": [
       "Downloading data: 0.00B [00:00, ?B/s]"
      ]
     },
     "metadata": {},
     "output_type": "display_data"
    },
    {
     "data": {
      "application/vnd.jupyter.widget-view+json": {
       "model_id": "12e94bad8b70485892301ca1814bd8fa",
       "version_major": 2,
       "version_minor": 0
      },
      "text/plain": [
       "Downloading data: 0.00B [00:00, ?B/s]"
      ]
     },
     "metadata": {},
     "output_type": "display_data"
    },
    {
     "data": {
      "application/vnd.jupyter.widget-view+json": {
       "model_id": "4851085e78af484b860d3c748fc84237",
       "version_major": 2,
       "version_minor": 0
      },
      "text/plain": [
       "Extracting data files:   0%|          | 0/3 [00:00<?, ?it/s]"
      ]
     },
     "metadata": {},
     "output_type": "display_data"
    },
    {
     "data": {
      "application/vnd.jupyter.widget-view+json": {
       "model_id": "c043eca67ec7429fa9621a242713822c",
       "version_major": 2,
       "version_minor": 0
      },
      "text/plain": [
       "Generating train split:   0%|          | 0/87372 [00:00<?, ? examples/s]"
      ]
     },
     "metadata": {},
     "output_type": "display_data"
    },
    {
     "data": {
      "application/vnd.jupyter.widget-view+json": {
       "model_id": "f49114106d49484c890dd2a524718512",
       "version_major": 2,
       "version_minor": 0
      },
      "text/plain": [
       "Generating validation split:   0%|          | 0/2837 [00:00<?, ? examples/s]"
      ]
     },
     "metadata": {},
     "output_type": "display_data"
    },
    {
     "data": {
      "application/vnd.jupyter.widget-view+json": {
       "model_id": "3cbf2210161f4525b446b352d890f9ba",
       "version_major": 2,
       "version_minor": 0
      },
      "text/plain": [
       "Generating test split:   0%|          | 0/1444 [00:00<?, ? examples/s]"
      ]
     },
     "metadata": {},
     "output_type": "display_data"
    },
    {
     "name": "stdout",
     "output_type": "stream",
     "text": [
      "Dataset kilt_tasks downloaded and prepared to /home/legmint/.cache/huggingface/datasets/kilt_tasks/nq/1.0.0/57dc8b2431e76637e0c6ef79689ca4af61ed3a330e2e0cd62c8971465a35db3a. Subsequent calls will reuse this data.\n"
     ]
    },
    {
     "data": {
      "application/vnd.jupyter.widget-view+json": {
       "model_id": "bda46a7fa31946dea16ce089fe1eafde",
       "version_major": 2,
       "version_minor": 0
      },
      "text/plain": [
       "  0%|          | 0/3 [00:00<?, ?it/s]"
      ]
     },
     "metadata": {},
     "output_type": "display_data"
    },
    {
     "data": {
      "application/vnd.jupyter.widget-view+json": {
       "model_id": "6634b691ab8d4e1392218c1275bb829a",
       "version_major": 2,
       "version_minor": 0
      },
      "text/plain": [
       "Downloading builder script:   0%|          | 0.00/2.15k [00:00<?, ?B/s]"
      ]
     },
     "metadata": {},
     "output_type": "display_data"
    },
    {
     "data": {
      "application/vnd.jupyter.widget-view+json": {
       "model_id": "cbe4b5b090c445bcb64164c3cb51faf0",
       "version_major": 2,
       "version_minor": 0
      },
      "text/plain": [
       "Downloading metadata:   0%|          | 0.00/982 [00:00<?, ?B/s]"
      ]
     },
     "metadata": {},
     "output_type": "display_data"
    },
    {
     "ename": "OSError",
     "evalue": "Not enough disk space. Needed: 62.11 GiB (download: 34.76 GiB, generated: 27.36 GiB, post-processed: Unknown size)",
     "output_type": "error",
     "traceback": [
      "\u001b[0;31m---------------------------------------------------------------------------\u001b[0m",
      "\u001b[0;31mOSError\u001b[0m                                   Traceback (most recent call last)",
      "Input \u001b[0;32mIn [10]\u001b[0m, in \u001b[0;36m<cell line: 2>\u001b[0;34m()\u001b[0m\n\u001b[1;32m      1\u001b[0m kilt_tasks \u001b[38;5;241m=\u001b[39m load_dataset(\u001b[38;5;124m\"\u001b[39m\u001b[38;5;124mkilt_tasks\u001b[39m\u001b[38;5;124m\"\u001b[39m)\n\u001b[0;32m----> 2\u001b[0m kilt_wikipedia \u001b[38;5;241m=\u001b[39m \u001b[43mload_dataset\u001b[49m\u001b[43m(\u001b[49m\u001b[38;5;124;43m\"\u001b[39;49m\u001b[38;5;124;43mkilt_wikipedia\u001b[39;49m\u001b[38;5;124;43m\"\u001b[39;49m\u001b[43m)\u001b[49m\n",
      "File \u001b[0;32m~/.local/lib/python3.8/site-packages/datasets/load.py:1691\u001b[0m, in \u001b[0;36mload_dataset\u001b[0;34m(path, name, data_dir, data_files, split, cache_dir, features, download_config, download_mode, ignore_verifications, keep_in_memory, save_infos, revision, use_auth_token, task, streaming, **config_kwargs)\u001b[0m\n\u001b[1;32m   1688\u001b[0m try_from_hf_gcs \u001b[38;5;241m=\u001b[39m path \u001b[38;5;129;01mnot\u001b[39;00m \u001b[38;5;129;01min\u001b[39;00m _PACKAGED_DATASETS_MODULES\n\u001b[1;32m   1690\u001b[0m \u001b[38;5;66;03m# Download and prepare data\u001b[39;00m\n\u001b[0;32m-> 1691\u001b[0m \u001b[43mbuilder_instance\u001b[49m\u001b[38;5;241;43m.\u001b[39;49m\u001b[43mdownload_and_prepare\u001b[49m\u001b[43m(\u001b[49m\n\u001b[1;32m   1692\u001b[0m \u001b[43m    \u001b[49m\u001b[43mdownload_config\u001b[49m\u001b[38;5;241;43m=\u001b[39;49m\u001b[43mdownload_config\u001b[49m\u001b[43m,\u001b[49m\n\u001b[1;32m   1693\u001b[0m \u001b[43m    \u001b[49m\u001b[43mdownload_mode\u001b[49m\u001b[38;5;241;43m=\u001b[39;49m\u001b[43mdownload_mode\u001b[49m\u001b[43m,\u001b[49m\n\u001b[1;32m   1694\u001b[0m \u001b[43m    \u001b[49m\u001b[43mignore_verifications\u001b[49m\u001b[38;5;241;43m=\u001b[39;49m\u001b[43mignore_verifications\u001b[49m\u001b[43m,\u001b[49m\n\u001b[1;32m   1695\u001b[0m \u001b[43m    \u001b[49m\u001b[43mtry_from_hf_gcs\u001b[49m\u001b[38;5;241;43m=\u001b[39;49m\u001b[43mtry_from_hf_gcs\u001b[49m\u001b[43m,\u001b[49m\n\u001b[1;32m   1696\u001b[0m \u001b[43m    \u001b[49m\u001b[43muse_auth_token\u001b[49m\u001b[38;5;241;43m=\u001b[39;49m\u001b[43muse_auth_token\u001b[49m\u001b[43m,\u001b[49m\n\u001b[1;32m   1697\u001b[0m \u001b[43m\u001b[49m\u001b[43m)\u001b[49m\n\u001b[1;32m   1699\u001b[0m \u001b[38;5;66;03m# Build dataset for splits\u001b[39;00m\n\u001b[1;32m   1700\u001b[0m keep_in_memory \u001b[38;5;241m=\u001b[39m (\n\u001b[1;32m   1701\u001b[0m     keep_in_memory \u001b[38;5;28;01mif\u001b[39;00m keep_in_memory \u001b[38;5;129;01mis\u001b[39;00m \u001b[38;5;129;01mnot\u001b[39;00m \u001b[38;5;28;01mNone\u001b[39;00m \u001b[38;5;28;01melse\u001b[39;00m is_small_dataset(builder_instance\u001b[38;5;241m.\u001b[39minfo\u001b[38;5;241m.\u001b[39mdataset_size)\n\u001b[1;32m   1702\u001b[0m )\n",
      "File \u001b[0;32m~/.local/lib/python3.8/site-packages/datasets/builder.py:551\u001b[0m, in \u001b[0;36mDatasetBuilder.download_and_prepare\u001b[0;34m(self, download_config, download_mode, ignore_verifications, try_from_hf_gcs, dl_manager, base_path, use_auth_token, **download_and_prepare_kwargs)\u001b[0m\n\u001b[1;32m    549\u001b[0m \u001b[38;5;28;01mif\u001b[39;00m \u001b[38;5;129;01mnot\u001b[39;00m is_remote_url(\u001b[38;5;28mself\u001b[39m\u001b[38;5;241m.\u001b[39m_cache_dir_root):  \u001b[38;5;66;03m# if cache dir is local, check for available space\u001b[39;00m\n\u001b[1;32m    550\u001b[0m     \u001b[38;5;28;01mif\u001b[39;00m \u001b[38;5;129;01mnot\u001b[39;00m has_sufficient_disk_space(\u001b[38;5;28mself\u001b[39m\u001b[38;5;241m.\u001b[39minfo\u001b[38;5;241m.\u001b[39msize_in_bytes \u001b[38;5;129;01mor\u001b[39;00m \u001b[38;5;241m0\u001b[39m, directory\u001b[38;5;241m=\u001b[39m\u001b[38;5;28mself\u001b[39m\u001b[38;5;241m.\u001b[39m_cache_dir_root):\n\u001b[0;32m--> 551\u001b[0m         \u001b[38;5;28;01mraise\u001b[39;00m \u001b[38;5;167;01mOSError\u001b[39;00m(\n\u001b[1;32m    552\u001b[0m             \u001b[38;5;124mf\u001b[39m\u001b[38;5;124m\"\u001b[39m\u001b[38;5;124mNot enough disk space. Needed: \u001b[39m\u001b[38;5;132;01m{\u001b[39;00msize_str(\u001b[38;5;28mself\u001b[39m\u001b[38;5;241m.\u001b[39minfo\u001b[38;5;241m.\u001b[39msize_in_bytes \u001b[38;5;129;01mor\u001b[39;00m \u001b[38;5;241m0\u001b[39m)\u001b[38;5;132;01m}\u001b[39;00m\u001b[38;5;124m (download: \u001b[39m\u001b[38;5;132;01m{\u001b[39;00msize_str(\u001b[38;5;28mself\u001b[39m\u001b[38;5;241m.\u001b[39minfo\u001b[38;5;241m.\u001b[39mdownload_size \u001b[38;5;129;01mor\u001b[39;00m \u001b[38;5;241m0\u001b[39m)\u001b[38;5;132;01m}\u001b[39;00m\u001b[38;5;124m, generated: \u001b[39m\u001b[38;5;132;01m{\u001b[39;00msize_str(\u001b[38;5;28mself\u001b[39m\u001b[38;5;241m.\u001b[39minfo\u001b[38;5;241m.\u001b[39mdataset_size \u001b[38;5;129;01mor\u001b[39;00m \u001b[38;5;241m0\u001b[39m)\u001b[38;5;132;01m}\u001b[39;00m\u001b[38;5;124m, post-processed: \u001b[39m\u001b[38;5;132;01m{\u001b[39;00msize_str(\u001b[38;5;28mself\u001b[39m\u001b[38;5;241m.\u001b[39minfo\u001b[38;5;241m.\u001b[39mpost_processing_size \u001b[38;5;129;01mor\u001b[39;00m \u001b[38;5;241m0\u001b[39m)\u001b[38;5;132;01m}\u001b[39;00m\u001b[38;5;124m)\u001b[39m\u001b[38;5;124m\"\u001b[39m\n\u001b[1;32m    553\u001b[0m         )\n\u001b[1;32m    555\u001b[0m \u001b[38;5;129m@contextlib\u001b[39m\u001b[38;5;241m.\u001b[39mcontextmanager\n\u001b[1;32m    556\u001b[0m \u001b[38;5;28;01mdef\u001b[39;00m \u001b[38;5;21mincomplete_dir\u001b[39m(dirname):\n\u001b[1;32m    557\u001b[0m     \u001b[38;5;124;03m\"\"\"Create temporary dir for dirname and rename on exit.\"\"\"\u001b[39;00m\n",
      "\u001b[0;31mOSError\u001b[0m: Not enough disk space. Needed: 62.11 GiB (download: 34.76 GiB, generated: 27.36 GiB, post-processed: Unknown size)"
     ]
    }
   ],
   "source": [
    "kilt_tasks = load_dataset(\"kilt_tasks\")\n",
    "kilt_wikipedia = load_dataset(\"kilt_wikipedia\")"
   ]
  },
  {
   "cell_type": "code",
   "execution_count": 6,
   "metadata": {
    "pycharm": {
     "name": "#%%\n"
    }
   },
   "outputs": [],
   "source": [
    "df = dataset[\"train_eli5\"].to_pandas()"
   ]
  },
  {
   "cell_type": "code",
   "execution_count": 9,
   "metadata": {
    "pycharm": {
     "name": "#%%\n"
    }
   },
   "outputs": [
    {
     "data": {
      "text/plain": [
       "0          \n",
       "1          \n",
       "2          \n",
       "3          \n",
       "4          \n",
       "         ..\n",
       "272629     \n",
       "272630     \n",
       "272631     \n",
       "272632     \n",
       "272633     \n",
       "Name: document, Length: 272634, dtype: object"
      ]
     },
     "execution_count": 9,
     "metadata": {},
     "output_type": "execute_result"
    }
   ],
   "source": [
    "df[\"document\"]"
   ]
  },
  {
   "cell_type": "code",
   "execution_count": 4,
   "metadata": {},
   "outputs": [],
   "source": [
    "a = pd.read_json(\"./eli5/eli5-train-kilt.jsonl\", lines=True)"
   ]
  },
  {
   "cell_type": "code",
   "execution_count": 6,
   "metadata": {},
   "outputs": [
    {
     "data": {
      "text/plain": [
       "[{'answer': \"Keep the defense honest, get a feel for the pass rush, open up the passing game. An offense that's too one dimensional will fail. And those rushes up the middle can be busted wide open sometimes for big yardage.\",\n",
       "  'meta': {'score': 3}},\n",
       " {'answer': \"If you throw the ball all the time, then the defense will adapt to always cover for a pass.  By doing a simple running play every now and then, you force the defense to stay close and guard against the run.  Sometimes, the offense can catch the defense off guard by faking a run and freeing up their receivers.\\n\\nAlso, you don't have to gain massive yards on every single play.  Sometimes, it works best to gain a few yards at a time.  As long as you get the first down, you are in good shape.\",\n",
       "  'meta': {'score': 2}},\n",
       " {'answer': 'In most cases the O-Line is supposed to make a hole for the running back to go through. If you run too many plays to the outside/throws the defense will catch on.\\n\\nAlso, 2 5 yard plays gets you a new set of downs.',\n",
       "  'meta': {'score': 2}},\n",
       " {'answer': \"I you don't like those type of plays, watch CFL.  We only get 3 downs so you can't afford to waste one.  Lots more passing.\",\n",
       "  'meta': {'score': 2}}]"
      ]
     },
     "execution_count": 6,
     "metadata": {},
     "output_type": "execute_result"
    }
   ],
   "source": [
    "a[\"output\"][0]"
   ]
  },
  {
   "cell_type": "code",
   "execution_count": 14,
   "metadata": {},
   "outputs": [
    {
     "data": {
      "text/html": [
       "<div>\n",
       "<style scoped>\n",
       "    .dataframe tbody tr th:only-of-type {\n",
       "        vertical-align: middle;\n",
       "    }\n",
       "\n",
       "    .dataframe tbody tr th {\n",
       "        vertical-align: top;\n",
       "    }\n",
       "\n",
       "    .dataframe thead th {\n",
       "        text-align: right;\n",
       "    }\n",
       "</style>\n",
       "<table border=\"1\" class=\"dataframe\">\n",
       "  <thead>\n",
       "    <tr style=\"text-align: right;\">\n",
       "      <th></th>\n",
       "      <th>id</th>\n",
       "      <th>input</th>\n",
       "      <th>output</th>\n",
       "    </tr>\n",
       "  </thead>\n",
       "  <tbody>\n",
       "    <tr>\n",
       "      <th>0</th>\n",
       "      <td>1oy5tc</td>\n",
       "      <td>in football whats the point of wasting the fir...</td>\n",
       "      <td>[{'answer': 'Keep the defense honest, get a fe...</td>\n",
       "    </tr>\n",
       "    <tr>\n",
       "      <th>1</th>\n",
       "      <td>2lojul</td>\n",
       "      <td>Why are different tiers (regular &lt; mid &lt; premi...</td>\n",
       "      <td>[{'answer': 'As someone who uses quality Premi...</td>\n",
       "    </tr>\n",
       "    <tr>\n",
       "      <th>2</th>\n",
       "      <td>8v5e3s</td>\n",
       "      <td>Stars and Visibility</td>\n",
       "      <td>[{'answer': 'It's a quirk of the human eye. At...</td>\n",
       "    </tr>\n",
       "    <tr>\n",
       "      <th>3</th>\n",
       "      <td>1v3wij</td>\n",
       "      <td>How do we know all the money the government is...</td>\n",
       "      <td>[{'answer': 'I'm pretty confident most of it i...</td>\n",
       "    </tr>\n",
       "    <tr>\n",
       "      <th>4</th>\n",
       "      <td>2jlp6f</td>\n",
       "      <td>What are good and bad sides of manual and auto...</td>\n",
       "      <td>[{'answer': 'Automatics weigh more, so that al...</td>\n",
       "    </tr>\n",
       "    <tr>\n",
       "      <th>...</th>\n",
       "      <td>...</td>\n",
       "      <td>...</td>\n",
       "      <td>...</td>\n",
       "    </tr>\n",
       "    <tr>\n",
       "      <th>272629</th>\n",
       "      <td>ckfrwx</td>\n",
       "      <td>Do we all see the same color or my red can be ...</td>\n",
       "      <td>[{'answer': 'Most likely that we all see color...</td>\n",
       "    </tr>\n",
       "    <tr>\n",
       "      <th>272630</th>\n",
       "      <td>ckfv7s</td>\n",
       "      <td>what does that often blue tape that athletes p...</td>\n",
       "      <td>[{'answer': 'It's called Kinesio tape.\n",
       "\n",
       "Its su...</td>\n",
       "    </tr>\n",
       "    <tr>\n",
       "      <th>272631</th>\n",
       "      <td>ckg0co</td>\n",
       "      <td>If cells die of age, where do new ones come from?</td>\n",
       "      <td>[{'answer': 'That gets a bit complicated becau...</td>\n",
       "    </tr>\n",
       "    <tr>\n",
       "      <th>272632</th>\n",
       "      <td>ckgagf</td>\n",
       "      <td>why the future of the planet depends on saving...</td>\n",
       "      <td>[{'answer': 'Why are they important? One world...</td>\n",
       "    </tr>\n",
       "    <tr>\n",
       "      <th>272633</th>\n",
       "      <td>ckgil4</td>\n",
       "      <td>Why can people with Alzheimer's easily remembe...</td>\n",
       "      <td>[{'answer': 'It could be that long term memori...</td>\n",
       "    </tr>\n",
       "  </tbody>\n",
       "</table>\n",
       "<p>272634 rows × 3 columns</p>\n",
       "</div>"
      ],
      "text/plain": [
       "            id                                              input  \\\n",
       "0       1oy5tc  in football whats the point of wasting the fir...   \n",
       "1       2lojul  Why are different tiers (regular < mid < premi...   \n",
       "2       8v5e3s                               Stars and Visibility   \n",
       "3       1v3wij  How do we know all the money the government is...   \n",
       "4       2jlp6f  What are good and bad sides of manual and auto...   \n",
       "...        ...                                                ...   \n",
       "272629  ckfrwx  Do we all see the same color or my red can be ...   \n",
       "272630  ckfv7s  what does that often blue tape that athletes p...   \n",
       "272631  ckg0co  If cells die of age, where do new ones come from?   \n",
       "272632  ckgagf  why the future of the planet depends on saving...   \n",
       "272633  ckgil4  Why can people with Alzheimer's easily remembe...   \n",
       "\n",
       "                                                   output  \n",
       "0       [{'answer': 'Keep the defense honest, get a fe...  \n",
       "1       [{'answer': 'As someone who uses quality Premi...  \n",
       "2       [{'answer': 'It's a quirk of the human eye. At...  \n",
       "3       [{'answer': 'I'm pretty confident most of it i...  \n",
       "4       [{'answer': 'Automatics weigh more, so that al...  \n",
       "...                                                   ...  \n",
       "272629  [{'answer': 'Most likely that we all see color...  \n",
       "272630  [{'answer': 'It's called Kinesio tape.\n",
       "\n",
       "Its su...  \n",
       "272631  [{'answer': 'That gets a bit complicated becau...  \n",
       "272632  [{'answer': 'Why are they important? One world...  \n",
       "272633  [{'answer': 'It could be that long term memori...  \n",
       "\n",
       "[272634 rows x 3 columns]"
      ]
     },
     "execution_count": 14,
     "metadata": {},
     "output_type": "execute_result"
    }
   ],
   "source": [
    "a"
   ]
  },
  {
   "cell_type": "code",
   "execution_count": 7,
   "metadata": {},
   "outputs": [],
   "source": [
    "b =  pd.read_json(\"./eli5/eli5-dev-kilt.jsonl\", lines=True)"
   ]
  },
  {
   "cell_type": "code",
   "execution_count": 15,
   "metadata": {},
   "outputs": [
    {
     "data": {
      "text/html": [
       "<div>\n",
       "<style scoped>\n",
       "    .dataframe tbody tr th:only-of-type {\n",
       "        vertical-align: middle;\n",
       "    }\n",
       "\n",
       "    .dataframe tbody tr th {\n",
       "        vertical-align: top;\n",
       "    }\n",
       "\n",
       "    .dataframe thead th {\n",
       "        text-align: right;\n",
       "    }\n",
       "</style>\n",
       "<table border=\"1\" class=\"dataframe\">\n",
       "  <thead>\n",
       "    <tr style=\"text-align: right;\">\n",
       "      <th></th>\n",
       "      <th>id</th>\n",
       "      <th>input</th>\n",
       "      <th>output</th>\n",
       "      <th>meta</th>\n",
       "    </tr>\n",
       "  </thead>\n",
       "  <tbody>\n",
       "    <tr>\n",
       "      <th>0</th>\n",
       "      <td>1kiwfx</td>\n",
       "      <td>In Trading Places (1983, Akroyd/Murphy) how do...</td>\n",
       "      <td>[{'answer': 'The final scene involves future c...</td>\n",
       "      <td>{'partial_evidence': [{'wikipedia_id': '520990...</td>\n",
       "    </tr>\n",
       "    <tr>\n",
       "      <th>1</th>\n",
       "      <td>52py6m</td>\n",
       "      <td>What causes the trail behind jets at high alti...</td>\n",
       "      <td>[{'answer': 'It is water vapor and ice. They a...</td>\n",
       "      <td>NaN</td>\n",
       "    </tr>\n",
       "    <tr>\n",
       "      <th>2</th>\n",
       "      <td>83bow1</td>\n",
       "      <td>babies crying pre-sedentary/having shelters if...</td>\n",
       "      <td>[{'answer': 'Hardly. First, remember that babi...</td>\n",
       "      <td>NaN</td>\n",
       "    </tr>\n",
       "    <tr>\n",
       "      <th>3</th>\n",
       "      <td>1dvkc7</td>\n",
       "      <td>Do animals know they're going to die?</td>\n",
       "      <td>[{'answer': 'Animals, at least higher function...</td>\n",
       "      <td>NaN</td>\n",
       "    </tr>\n",
       "    <tr>\n",
       "      <th>4</th>\n",
       "      <td>4lnk7x</td>\n",
       "      <td>Does marijuana impair driving ability?</td>\n",
       "      <td>[{'answer': 'Cannabis is a depressant drug, wh...</td>\n",
       "      <td>NaN</td>\n",
       "    </tr>\n",
       "    <tr>\n",
       "      <th>...</th>\n",
       "      <td>...</td>\n",
       "      <td>...</td>\n",
       "      <td>...</td>\n",
       "      <td>...</td>\n",
       "    </tr>\n",
       "    <tr>\n",
       "      <th>1502</th>\n",
       "      <td>58a63d</td>\n",
       "      <td>I'm not American, what can someone do with you...</td>\n",
       "      <td>[{'answer': 'Let’s start from the beginning. W...</td>\n",
       "      <td>NaN</td>\n",
       "    </tr>\n",
       "    <tr>\n",
       "      <th>1503</th>\n",
       "      <td>5jf3u5</td>\n",
       "      <td>Why do corporations who cause deaths only get ...</td>\n",
       "      <td>[{'answer': 'To some extent it's a matter of s...</td>\n",
       "      <td>{'partial_evidence': [{'wikipedia_id': '190002...</td>\n",
       "    </tr>\n",
       "    <tr>\n",
       "      <th>1504</th>\n",
       "      <td>4el9kh</td>\n",
       "      <td>Why do pens dry out when the cap is left off, ...</td>\n",
       "      <td>[{'answer': 'The pens dry out because the ink ...</td>\n",
       "      <td>NaN</td>\n",
       "    </tr>\n",
       "    <tr>\n",
       "      <th>1505</th>\n",
       "      <td>1lk76o</td>\n",
       "      <td>How come on military uniforms and other things...</td>\n",
       "      <td>[{'answer': 'The backwards flag is supposed to...</td>\n",
       "      <td>NaN</td>\n",
       "    </tr>\n",
       "    <tr>\n",
       "      <th>1506</th>\n",
       "      <td>4ohiiu</td>\n",
       "      <td>In this day and age with vast technological ad...</td>\n",
       "      <td>[{'answer': ' &gt; why do we still not have symme...</td>\n",
       "      <td>NaN</td>\n",
       "    </tr>\n",
       "  </tbody>\n",
       "</table>\n",
       "<p>1507 rows × 4 columns</p>\n",
       "</div>"
      ],
      "text/plain": [
       "          id                                              input  \\\n",
       "0     1kiwfx  In Trading Places (1983, Akroyd/Murphy) how do...   \n",
       "1     52py6m  What causes the trail behind jets at high alti...   \n",
       "2     83bow1  babies crying pre-sedentary/having shelters if...   \n",
       "3     1dvkc7              Do animals know they're going to die?   \n",
       "4     4lnk7x             Does marijuana impair driving ability?   \n",
       "...      ...                                                ...   \n",
       "1502  58a63d  I'm not American, what can someone do with you...   \n",
       "1503  5jf3u5  Why do corporations who cause deaths only get ...   \n",
       "1504  4el9kh  Why do pens dry out when the cap is left off, ...   \n",
       "1505  1lk76o  How come on military uniforms and other things...   \n",
       "1506  4ohiiu  In this day and age with vast technological ad...   \n",
       "\n",
       "                                                 output  \\\n",
       "0     [{'answer': 'The final scene involves future c...   \n",
       "1     [{'answer': 'It is water vapor and ice. They a...   \n",
       "2     [{'answer': 'Hardly. First, remember that babi...   \n",
       "3     [{'answer': 'Animals, at least higher function...   \n",
       "4     [{'answer': 'Cannabis is a depressant drug, wh...   \n",
       "...                                                 ...   \n",
       "1502  [{'answer': 'Let’s start from the beginning. W...   \n",
       "1503  [{'answer': 'To some extent it's a matter of s...   \n",
       "1504  [{'answer': 'The pens dry out because the ink ...   \n",
       "1505  [{'answer': 'The backwards flag is supposed to...   \n",
       "1506  [{'answer': ' > why do we still not have symme...   \n",
       "\n",
       "                                                   meta  \n",
       "0     {'partial_evidence': [{'wikipedia_id': '520990...  \n",
       "1                                                   NaN  \n",
       "2                                                   NaN  \n",
       "3                                                   NaN  \n",
       "4                                                   NaN  \n",
       "...                                                 ...  \n",
       "1502                                                NaN  \n",
       "1503  {'partial_evidence': [{'wikipedia_id': '190002...  \n",
       "1504                                                NaN  \n",
       "1505                                                NaN  \n",
       "1506                                                NaN  \n",
       "\n",
       "[1507 rows x 4 columns]"
      ]
     },
     "execution_count": 15,
     "metadata": {},
     "output_type": "execute_result"
    }
   ],
   "source": [
    "b"
   ]
  },
  {
   "cell_type": "code",
   "execution_count": 10,
   "metadata": {},
   "outputs": [
    {
     "data": {
      "text/plain": [
       "[{'answer': 'The final scene involves future contracts. This simply means entering into a contract to buy something (oil, wheat, even frozen concentrated orange juice(FCOJ)) at a specified time for the current price. The person selling the future does not have to own the FCOJ at the time of sale he simply has to provide them at the agreed upon date. Futures help companies mitigate risk against the unpredictable price of FCOJ. If the price of FCOJ goes up the buyer wins the seller loses and visa versa. This price is often affected by fresh oranges. If there is a good harvest FCOJ price goes down and so on. The Dukes believed there was going to be a bad harvest. Their plan was to buy as much FCOJ as they could and basically corner the market then sell it at a much higher price due to a lack of oranges. So here is what happened. At first Winthrop and Valentine begin selling futures contracts at inflated prices caused by the Dukes (on the info from the fake report of a bad orange harvest) at approximately $1.45 per unit. When the report comes out that the orange harvest is expected to be good caused a massive selloff and the futures price plummeted to about $.22 cents. This is when Winthrop and Valentine begin buying futures instead of selling. So now they can fill the futures orders of $1.45 with oranges costing $.22 earning something like a 545% profit.'},\n",
       " {'answer': 'They had an episode of Marketplace that addressed this a few weeks ago:  URL_0 '},\n",
       " {'answer': 'NPR actually did a interview explaining everything pretty well.  URL_0 '},\n",
       " {'answer': 'If I remember correctly, they knew that the price of orange juice was going to fall. Normally this wouldn\\'t matter, because you are supposed to buy and hold stocks, but they were buying what\\'s called \\'futures\\'. In a nutshell, they were buying contracts that afford them the legal right to purchase units of OJ at a specific price. Since they knew the price of OJ would fall (remember the dude with the locked briefcase?) they were buying option contracts to purchase OJ at a higher price. Anyone with half a brain would sell them these and of course that\\'s what happened. For in depth knowledge, look up \"how futures trading works.\"'},\n",
       " {'answer': \"The unrealistic part of that flick is not the trading but Winthorp and Valentine being able just to waltz in to that pit and stand wherever they want. Spots in a commodity pit are protected like gang turf. They just go in and stand in the middle. Also if they deposit the cash from everyone's savings lets say 100k and the margin per contract is 5k per contract they can only buy or sell 20 contracts. I don't know what the FCOJ margins are, but if they trade more than 20 the profit goes to the exchange. At least that's how the CME rolls.\"},\n",
       " {'answer': 'Fun fact: In \"Coming to America\", when Akeem\\'s character gave the money to the 2 homeless guys, it was the Duke brothers. :)  URL_0 '},\n",
       " {'answer': \"odd things I noted - 1. They didn't go in with that much cash. I understand they first sold high and then bought low. So how did they sell so much with just a small sum? They should've bought very little contracts of fcoj which would sell out in 1min with that frenzy and then the buyers would go somewhere else and price would rise even beyond $1.42 2. They all look at the clock and then 9am (I think) strikes and crop report is read. Then they all panic because they need to unload whatever they bought and finding the 2 buying they sell ASAP. Again how can these 2 buy everything with so little money? 3. Finally the closing bell strikes and trading stops. How did all this scheme happen so fast ? Doesnt trading happen 9:30am to 4pm at NYSE (why wtc was shown?) for such commodities. Did they spend that many hours there? It just seemed sudden and abrupt the time flow.\"},\n",
       " {'answer': 'it was the margin call for the duke brothers. as i\\'m sure others explained, the dukes shorted the market based on info from the phony crop report. so when the price shot up, a margin call was due, even after the price settled a bit after billy and louie sold their holdings for huge gains. when the market closed with the price still up, the movie shows the guy affiliated with the exchange saying \"Margin call.\". In reality I think it would\\'ve been the firm that they trade through and that provided them the loan in the first place. (margin call means pay back the loaned amount) edit: maybe I had it backwards and the dukes were going to go long on OJ futures, but it\\'s the same principle. margin call did them in after the market worked against them based on their false knowledge.'},\n",
       " {'answer': 'I feel so old. People have been askinbg what happened at the end of this movie for what must be the last 15 years of my life. It never stops. Every year/month/fortnight, I see someone asking what happened, and someone explaining. Andf it will keep on happening, until I am 90yrs old, in a home, with nothing but the Internet and my bladder to keep me going. And there it will be: \"what happens at the end of Trading Places?\"'},\n",
       " {'provenance': [{'wikipedia_id': '242855',\n",
       "    'title': 'Futures contract',\n",
       "    'section': 'Section::::Abstract.',\n",
       "    'start_paragraph_id': 1,\n",
       "    'start_character': 14,\n",
       "    'end_paragraph_id': 1,\n",
       "    'end_character': 612,\n",
       "    'bleu_score': 0.9232808519770741}]}]"
      ]
     },
     "execution_count": 10,
     "metadata": {},
     "output_type": "execute_result"
    }
   ],
   "source": [
    "b[\"output\"][0]"
   ]
  },
  {
   "cell_type": "code",
   "execution_count": 13,
   "metadata": {},
   "outputs": [
    {
     "data": {
      "text/plain": [
       "{'partial_evidence': [{'wikipedia_id': '520990',\n",
       "   'title': 'Trading Places',\n",
       "   'section': 'Section::::Plot.\\n',\n",
       "   'start_paragraph_id': 7,\n",
       "   'end_paragraph_id': 7,\n",
       "   'meta': {'evidence_span': ['On television, they learn that Clarence Beeks is transporting a secret USDA report on orange crop forecasts.',\n",
       "     'On television, they learn that Clarence Beeks is transporting a secret USDA report on orange crop forecasts. Winthorpe and Valentine recall large payments made to Beeks by the Dukes and realize that the Dukes plan to obtain the report to corner the market on frozen orange juice.',\n",
       "     'Winthorpe and Valentine recall large payments made to Beeks by the Dukes and realize that the Dukes plan to obtain the report to corner the market on frozen orange juice.']}}]}"
      ]
     },
     "execution_count": 13,
     "metadata": {},
     "output_type": "execute_result"
    }
   ],
   "source": [
    "b[\"meta\"][0]"
   ]
  },
  {
   "cell_type": "code",
   "execution_count": 16,
   "metadata": {},
   "outputs": [],
   "source": [
    "c = pd.read_json(\"./eli5/eli5-test_without_answers-kilt.jsonl\", lines=True)"
   ]
  },
  {
   "cell_type": "code",
   "execution_count": 24,
   "metadata": {},
   "outputs": [
    {
     "data": {
      "text/html": [
       "<div>\n",
       "<style scoped>\n",
       "    .dataframe tbody tr th:only-of-type {\n",
       "        vertical-align: middle;\n",
       "    }\n",
       "\n",
       "    .dataframe tbody tr th {\n",
       "        vertical-align: top;\n",
       "    }\n",
       "\n",
       "    .dataframe thead th {\n",
       "        text-align: right;\n",
       "    }\n",
       "</style>\n",
       "<table border=\"1\" class=\"dataframe\">\n",
       "  <thead>\n",
       "    <tr style=\"text-align: right;\">\n",
       "      <th></th>\n",
       "      <th>id</th>\n",
       "      <th>input</th>\n",
       "      <th>meta</th>\n",
       "    </tr>\n",
       "  </thead>\n",
       "  <tbody>\n",
       "    <tr>\n",
       "      <th>0</th>\n",
       "      <td>95nci3</td>\n",
       "      <td>What does the term wasp mean and where did it ...</td>\n",
       "      <td>NaN</td>\n",
       "    </tr>\n",
       "    <tr>\n",
       "      <th>1</th>\n",
       "      <td>cged4t</td>\n",
       "      <td>how can aldi offer something for less?</td>\n",
       "      <td>NaN</td>\n",
       "    </tr>\n",
       "    <tr>\n",
       "      <th>2</th>\n",
       "      <td>aiix0e</td>\n",
       "      <td>What are pieces of eight?</td>\n",
       "      <td>NaN</td>\n",
       "    </tr>\n",
       "    <tr>\n",
       "      <th>3</th>\n",
       "      <td>ciiwu2</td>\n",
       "      <td>What would happen if you took a shitload of st...</td>\n",
       "      <td>NaN</td>\n",
       "    </tr>\n",
       "    <tr>\n",
       "      <th>4</th>\n",
       "      <td>ctw3up</td>\n",
       "      <td>why people feel the slightest splinters in the...</td>\n",
       "      <td>NaN</td>\n",
       "    </tr>\n",
       "    <tr>\n",
       "      <th>...</th>\n",
       "      <td>...</td>\n",
       "      <td>...</td>\n",
       "      <td>...</td>\n",
       "    </tr>\n",
       "    <tr>\n",
       "      <th>595</th>\n",
       "      <td>bjhv4i</td>\n",
       "      <td>Why doesn’t water in a pond just soak into the...</td>\n",
       "      <td>NaN</td>\n",
       "    </tr>\n",
       "    <tr>\n",
       "      <th>596</th>\n",
       "      <td>ayp8fk</td>\n",
       "      <td>how do chemists extract specific substances fr...</td>\n",
       "      <td>NaN</td>\n",
       "    </tr>\n",
       "    <tr>\n",
       "      <th>597</th>\n",
       "      <td>bc03yq</td>\n",
       "      <td>Does the same thing taste different, for diffe...</td>\n",
       "      <td>NaN</td>\n",
       "    </tr>\n",
       "    <tr>\n",
       "      <th>598</th>\n",
       "      <td>94ze61</td>\n",
       "      <td>How do clouds exist despite being cooler than ...</td>\n",
       "      <td>NaN</td>\n",
       "    </tr>\n",
       "    <tr>\n",
       "      <th>599</th>\n",
       "      <td>ch22ke</td>\n",
       "      <td>How are people supposed to cite scientific pap...</td>\n",
       "      <td>NaN</td>\n",
       "    </tr>\n",
       "  </tbody>\n",
       "</table>\n",
       "<p>600 rows × 3 columns</p>\n",
       "</div>"
      ],
      "text/plain": [
       "         id                                              input meta\n",
       "0    95nci3  What does the term wasp mean and where did it ...  NaN\n",
       "1    cged4t             how can aldi offer something for less?  NaN\n",
       "2    aiix0e                          What are pieces of eight?  NaN\n",
       "3    ciiwu2  What would happen if you took a shitload of st...  NaN\n",
       "4    ctw3up  why people feel the slightest splinters in the...  NaN\n",
       "..      ...                                                ...  ...\n",
       "595  bjhv4i  Why doesn’t water in a pond just soak into the...  NaN\n",
       "596  ayp8fk  how do chemists extract specific substances fr...  NaN\n",
       "597  bc03yq  Does the same thing taste different, for diffe...  NaN\n",
       "598  94ze61  How do clouds exist despite being cooler than ...  NaN\n",
       "599  ch22ke  How are people supposed to cite scientific pap...  NaN\n",
       "\n",
       "[600 rows x 3 columns]"
      ]
     },
     "execution_count": 24,
     "metadata": {},
     "output_type": "execute_result"
    }
   ],
   "source": [
    "c"
   ]
  },
  {
   "cell_type": "code",
   "execution_count": 30,
   "metadata": {},
   "outputs": [],
   "source": [
    "df1 = pd.DataFrame(np.random.randint(25, size=(4, 4)),\n",
    "                   index=[\"1\", \"2\", \"3\", \"4\"],\n",
    "                   columns=[\"A\", \"B\", \"C\", \"D\"])\n",
    " \n",
    "df2 = pd.DataFrame(np.random.randint(25, size=(6, 3)),\n",
    "                   index=[\"5\", \"6\", \"7\", \"8\", \"9\", \"10\"],\n",
    "                   columns=[\"A\", \"B\", \"C\"])\n",
    " \n",
    "df3 = pd.DataFrame(np.random.randint(25, size=(4, 4)),\n",
    "                   columns=[\"A\", \"B\", \"C\", \"D\"])\n",
    " \n",
    "df4 = pd.DataFrame(np.random.randint(25, size=(4, 4)),\n",
    "                   columns=[\"E\", \"F\", \"G\", \"H\"])"
   ]
  },
  {
   "cell_type": "code",
   "execution_count": 31,
   "metadata": {},
   "outputs": [
    {
     "data": {
      "text/html": [
       "<div>\n",
       "<style scoped>\n",
       "    .dataframe tbody tr th:only-of-type {\n",
       "        vertical-align: middle;\n",
       "    }\n",
       "\n",
       "    .dataframe tbody tr th {\n",
       "        vertical-align: top;\n",
       "    }\n",
       "\n",
       "    .dataframe thead th {\n",
       "        text-align: right;\n",
       "    }\n",
       "</style>\n",
       "<table border=\"1\" class=\"dataframe\">\n",
       "  <thead>\n",
       "    <tr style=\"text-align: right;\">\n",
       "      <th></th>\n",
       "      <th>A</th>\n",
       "      <th>B</th>\n",
       "      <th>C</th>\n",
       "      <th>D</th>\n",
       "    </tr>\n",
       "  </thead>\n",
       "  <tbody>\n",
       "    <tr>\n",
       "      <th>1</th>\n",
       "      <td>4</td>\n",
       "      <td>9</td>\n",
       "      <td>4</td>\n",
       "      <td>11.0</td>\n",
       "    </tr>\n",
       "    <tr>\n",
       "      <th>2</th>\n",
       "      <td>22</td>\n",
       "      <td>15</td>\n",
       "      <td>22</td>\n",
       "      <td>2.0</td>\n",
       "    </tr>\n",
       "    <tr>\n",
       "      <th>3</th>\n",
       "      <td>23</td>\n",
       "      <td>22</td>\n",
       "      <td>24</td>\n",
       "      <td>8.0</td>\n",
       "    </tr>\n",
       "    <tr>\n",
       "      <th>4</th>\n",
       "      <td>20</td>\n",
       "      <td>17</td>\n",
       "      <td>24</td>\n",
       "      <td>23.0</td>\n",
       "    </tr>\n",
       "    <tr>\n",
       "      <th>5</th>\n",
       "      <td>24</td>\n",
       "      <td>0</td>\n",
       "      <td>6</td>\n",
       "      <td>NaN</td>\n",
       "    </tr>\n",
       "    <tr>\n",
       "      <th>6</th>\n",
       "      <td>0</td>\n",
       "      <td>2</td>\n",
       "      <td>11</td>\n",
       "      <td>NaN</td>\n",
       "    </tr>\n",
       "    <tr>\n",
       "      <th>7</th>\n",
       "      <td>2</td>\n",
       "      <td>13</td>\n",
       "      <td>16</td>\n",
       "      <td>NaN</td>\n",
       "    </tr>\n",
       "    <tr>\n",
       "      <th>8</th>\n",
       "      <td>9</td>\n",
       "      <td>15</td>\n",
       "      <td>17</td>\n",
       "      <td>NaN</td>\n",
       "    </tr>\n",
       "    <tr>\n",
       "      <th>9</th>\n",
       "      <td>17</td>\n",
       "      <td>18</td>\n",
       "      <td>24</td>\n",
       "      <td>NaN</td>\n",
       "    </tr>\n",
       "    <tr>\n",
       "      <th>10</th>\n",
       "      <td>3</td>\n",
       "      <td>18</td>\n",
       "      <td>19</td>\n",
       "      <td>NaN</td>\n",
       "    </tr>\n",
       "    <tr>\n",
       "      <th>0</th>\n",
       "      <td>2</td>\n",
       "      <td>9</td>\n",
       "      <td>23</td>\n",
       "      <td>1.0</td>\n",
       "    </tr>\n",
       "    <tr>\n",
       "      <th>1</th>\n",
       "      <td>13</td>\n",
       "      <td>21</td>\n",
       "      <td>22</td>\n",
       "      <td>18.0</td>\n",
       "    </tr>\n",
       "    <tr>\n",
       "      <th>2</th>\n",
       "      <td>17</td>\n",
       "      <td>6</td>\n",
       "      <td>1</td>\n",
       "      <td>17.0</td>\n",
       "    </tr>\n",
       "    <tr>\n",
       "      <th>3</th>\n",
       "      <td>14</td>\n",
       "      <td>9</td>\n",
       "      <td>4</td>\n",
       "      <td>19.0</td>\n",
       "    </tr>\n",
       "  </tbody>\n",
       "</table>\n",
       "</div>"
      ],
      "text/plain": [
       "     A   B   C     D\n",
       "1    4   9   4  11.0\n",
       "2   22  15  22   2.0\n",
       "3   23  22  24   8.0\n",
       "4   20  17  24  23.0\n",
       "5   24   0   6   NaN\n",
       "6    0   2  11   NaN\n",
       "7    2  13  16   NaN\n",
       "8    9  15  17   NaN\n",
       "9   17  18  24   NaN\n",
       "10   3  18  19   NaN\n",
       "0    2   9  23   1.0\n",
       "1   13  21  22  18.0\n",
       "2   17   6   1  17.0\n",
       "3   14   9   4  19.0"
      ]
     },
     "execution_count": 31,
     "metadata": {},
     "output_type": "execute_result"
    }
   ],
   "source": [
    "pd.concat([df1, df2, df3], axis=0)"
   ]
  },
  {
   "cell_type": "code",
   "execution_count": 32,
   "metadata": {},
   "outputs": [
    {
     "ename": "TypeError",
     "evalue": "object of type 'NoneType' has no len()",
     "output_type": "error",
     "traceback": [
      "\u001b[0;31m---------------------------------------------------------------------------\u001b[0m",
      "\u001b[0;31mTypeError\u001b[0m                                 Traceback (most recent call last)",
      "\u001b[0;32m<ipython-input-32-96b07938784c>\u001b[0m in \u001b[0;36m<module>\u001b[0;34m\u001b[0m\n\u001b[0;32m----> 1\u001b[0;31m \u001b[0mlen\u001b[0m\u001b[0;34m(\u001b[0m\u001b[0;32mNone\u001b[0m\u001b[0;34m)\u001b[0m\u001b[0;34m\u001b[0m\u001b[0;34m\u001b[0m\u001b[0m\n\u001b[0m",
      "\u001b[0;31mTypeError\u001b[0m: object of type 'NoneType' has no len()"
     ]
    }
   ],
   "source": [
    "len(None)"
   ]
  }
 ],
 "metadata": {
  "kernelspec": {
   "display_name": "Python 3 (ipykernel)",
   "language": "python",
   "name": "python3"
  },
  "language_info": {
   "codemirror_mode": {
    "name": "ipython",
    "version": 3
   },
   "file_extension": ".py",
   "mimetype": "text/x-python",
   "name": "python",
   "nbconvert_exporter": "python",
   "pygments_lexer": "ipython3",
   "version": "3.6.10"
  }
 },
 "nbformat": 4,
 "nbformat_minor": 4
}
